{
 "cells": [
  {
   "cell_type": "code",
   "execution_count": null,
   "id": "c9eb74a4",
   "metadata": {},
   "outputs": [],
   "source": [
    "import numpy as np\n",
    "import CMO_A2\n",
    "from numpy.linalg import norm\n",
    "Q=CMO_A2.oracle4(22763)\n",
    "e=np.identity(5)\n",
    "u=np.identity(5)\n",
    "b=np.array([2,2,7,6,3])\n",
    "for i in range(1,5):\n",
    "    eT=e[i].reshape((1,5))\n",
    "    for j in range(i):\n",
    "        uT=u[j].reshape((1,5))  \n",
    "        numer=float(np.dot(np.matmul(eT,Q),u[j]))\n",
    "        denom=float(np.dot(np.matmul(uT,Q),u[j]))\n",
    "        u[i]=u[i]-(numer/denom)*u[j]\n",
    "print(\"Conjugate Direction matrix is given by: \\n\")\n",
    "print(u)\n",
    "def func(x):\n",
    "    xT=x.reshape((1,5))\n",
    "    funcval=(0.5)*np.dot(np.matmul(xT,Q),x)-np.dot(b,x)\n",
    "    grad=np.matmul(Q,x)-b\n",
    "    return float(funcval),grad\n",
    "\n",
    "def stepsize(x,vect):\n",
    "    val,grad=func(x)\n",
    "    uT=vect.reshape((1,5))\n",
    "    alpha=-(np.matmul(grad,vect))/np.matmul(np.matmul(uT,Q),vect)\n",
    "    return float(alpha)\n",
    "\n",
    "x=np.zeros(5)\n",
    "i=0\n",
    "while i<5:\n",
    "    x=x+stepsize(x,u[i])*u[i]\n",
    "    funcval,grad=func(x)\n",
    "    i=i+1\n",
    "print(\"\\n\\nFinal Answer:\")   \n",
    "print(\"\\nx= \"+str(x))\n",
    "print(\"Function val= \"+str(round(funcval,9)))\n",
    "print(\"Number of iterations are given by = \"+str(i))"
   ]
  }
 ],
 "metadata": {
  "kernelspec": {
   "display_name": "Python 3 (ipykernel)",
   "language": "python",
   "name": "python3"
  },
  "language_info": {
   "codemirror_mode": {
    "name": "ipython",
    "version": 3
   },
   "file_extension": ".py",
   "mimetype": "text/x-python",
   "name": "python",
   "nbconvert_exporter": "python",
   "pygments_lexer": "ipython3",
   "version": "3.11.5"
  }
 },
 "nbformat": 4,
 "nbformat_minor": 5
}
