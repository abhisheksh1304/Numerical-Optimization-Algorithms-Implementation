{
 "cells": [
  {
   "cell_type": "code",
   "execution_count": null,
   "id": "b0f6c822",
   "metadata": {},
   "outputs": [],
   "source": [
    "import math\n",
    "\n",
    "x = 1\n",
    "beta = 0.9\n",
    "c = 0.1\n",
    "limit = 10 ** (-4)\n",
    "def f(x):\n",
    "    return math.sqrt(1 + 2 * x ** 2)\n",
    "\n",
    "def grad(x):\n",
    "    return 2 * x / math.sqrt(1 + 2 * x ** 2)\n",
    "\n",
    "def hess(x):\n",
    "    return 2 /( (1 + 2 * (x ** 2)) ** (3/2))\n",
    "\n",
    "def backtracking(x, p, beta, c):\n",
    "    alpha = 1\n",
    "    while f(x + alpha * p) >= f(x) + c * alpha * grad(x) * p:\n",
    "        alpha *= beta\n",
    "    return alpha\n",
    "\n",
    "def damped_newton(x, beta, c, tol):\n",
    "    x = x\n",
    "    k = 0\n",
    "    while abs(grad(x)) > tol:\n",
    "        m = -(grad(x)/hess(x))\n",
    "        alpha = backtracking(x, m, beta, c)\n",
    "        x += alpha * m\n",
    "        k += 1\n",
    "    return round(x, 9), k\n",
    "\n",
    "\n",
    "point, it = damped_newton(x, beta, c, limit)\n",
    "print(\"Final Point given by Damped Newton Method is x= \"+str(round(point,9)))"
   ]
  }
 ],
 "metadata": {
  "kernelspec": {
   "display_name": "Python 3 (ipykernel)",
   "language": "python",
   "name": "python3"
  },
  "language_info": {
   "codemirror_mode": {
    "name": "ipython",
    "version": 3
   },
   "file_extension": ".py",
   "mimetype": "text/x-python",
   "name": "python",
   "nbconvert_exporter": "python",
   "pygments_lexer": "ipython3",
   "version": "3.11.5"
  }
 },
 "nbformat": 4,
 "nbformat_minor": 5
}
