{
 "cells": [
  {
   "cell_type": "code",
   "execution_count": null,
   "id": "c6945c53",
   "metadata": {},
   "outputs": [],
   "source": [
    "print(\"*****************Implementation of gradient descent****************\\n\")\n",
    "\n",
    "import numpy as np\n",
    "import CMO_A2\n",
    "from numpy.linalg import norm\n",
    "x=np.zeros(5)\n",
    "alpha=0.00004\n",
    "it0=0\n",
    "func_val,grad=CMO_A2.oracle3(22763,x)\n",
    "while norm(grad)>=(10**(-4)):\n",
    "    it0=it0+1\n",
    "    x=x-alpha*grad\n",
    "    func_val,grad=CMO_A2.oracle3(22763,x)\n",
    "\n",
    "print(\"\\nMinima x= \"+str(x))\n",
    "print(\"\\nMinimum Value= \"+str(round(func_val,9)))\n",
    "print(\"\\nNumber of iterations= \"+str(it0))"
   ]
  }
 ],
 "metadata": {
  "kernelspec": {
   "display_name": "Python 3 (ipykernel)",
   "language": "python",
   "name": "python3"
  },
  "language_info": {
   "codemirror_mode": {
    "name": "ipython",
    "version": 3
   },
   "file_extension": ".py",
   "mimetype": "text/x-python",
   "name": "python",
   "nbconvert_exporter": "python",
   "pygments_lexer": "ipython3",
   "version": "3.11.5"
  }
 },
 "nbformat": 4,
 "nbformat_minor": 5
}
