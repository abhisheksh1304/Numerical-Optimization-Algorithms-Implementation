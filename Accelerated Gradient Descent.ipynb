{
 "cells": [
  {
   "cell_type": "code",
   "execution_count": null,
   "id": "041baa6e",
   "metadata": {},
   "outputs": [],
   "source": [
    "print(\"\\n\\n**************Implementation of Accelerated Gradient Descent*******************\\n\")\n",
    "\n",
    "x_curr=np.zeros(5)\n",
    "x_prev=np.zeros(5)\n",
    "alpha=0.00004\n",
    "it1=0\n",
    "theta=0.142\n",
    "func_val,grad=CMO_A2.oracle3(22763,x_curr)\n",
    "while norm(grad)>=(10**(-4)):\n",
    "    it1=it1+1\n",
    "    y=x_curr+theta*(x_curr-x_prev)\n",
    "    func_val_y,grady=CMO_A2.oracle3(22763,y)\n",
    "    x_next=y-alpha*grady\n",
    "    x_prev=x_curr\n",
    "    x_curr=x_next\n",
    "    func_val,grad=CMO_A2.oracle3(22763,x_curr)\n",
    "\n",
    "print(\"\\nMinima x= \"+str(x_curr))\n",
    "print(\"\\nMinimum Value= \"+str(round(func_val,9)))\n",
    "print(\"\\nNumber of iterations= \"+str(it1))\n",
    "\n",
    "print(\"\\n\\n Difference in Number of Iterations for both algorithms= \"+str(it0-it1))"
   ]
  }
 ],
 "metadata": {
  "kernelspec": {
   "display_name": "Python 3 (ipykernel)",
   "language": "python",
   "name": "python3"
  },
  "language_info": {
   "codemirror_mode": {
    "name": "ipython",
    "version": 3
   },
   "file_extension": ".py",
   "mimetype": "text/x-python",
   "name": "python",
   "nbconvert_exporter": "python",
   "pygments_lexer": "ipython3",
   "version": "3.11.5"
  }
 },
 "nbformat": 4,
 "nbformat_minor": 5
}
